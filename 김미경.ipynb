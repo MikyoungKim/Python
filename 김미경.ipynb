{
  "nbformat": 4,
  "nbformat_minor": 0,
  "metadata": {
    "colab": {
      "name": "김미경.ipynb",
      "version": "0.3.2",
      "provenance": [],
      "collapsed_sections": [],
      "include_colab_link": true
    },
    "kernelspec": {
      "name": "python3",
      "display_name": "Python 3"
    }
  },
  "cells": [
    {
      "cell_type": "markdown",
      "metadata": {
        "id": "view-in-github",
        "colab_type": "text"
      },
      "source": [
        "<a href=\"https://colab.research.google.com/github/MikyoungKim/Python/blob/master/%EA%B9%80%EB%AF%B8%EA%B2%BD.ipynb\" target=\"_parent\"><img src=\"https://colab.research.google.com/assets/colab-badge.svg\" alt=\"Open In Colab\"/></a>"
      ]
    },
    {
      "cell_type": "markdown",
      "metadata": {
        "id": "44V4j36yPXqY",
        "colab_type": "text"
      },
      "source": [
        "# 리스트"
      ]
    },
    {
      "cell_type": "markdown",
      "metadata": {
        "id": "qUFiQn0PPgk-",
        "colab_type": "text"
      },
      "source": [
        "## 리스트란?\n",
        "리스트는 여러 값을 담을 수 있는 변수입니다. "
      ]
    },
    {
      "cell_type": "markdown",
      "metadata": {
        "id": "dce2V_-0P5GM",
        "colab_type": "text"
      },
      "source": [
        "### 1. 리스트 만들기\n",
        "2가지 방법"
      ]
    },
    {
      "cell_type": "markdown",
      "metadata": {
        "id": "vq-QATSnQL25",
        "colab_type": "text"
      },
      "source": [
        "#### 방법 1"
      ]
    },
    {
      "cell_type": "code",
      "metadata": {
        "id": "5_ze7gu9Qgj1",
        "colab_type": "code",
        "colab": {}
      },
      "source": [
        "# list1 이라는 빈 리스트를 만든다.\n",
        "list1 = []"
      ],
      "execution_count": 0,
      "outputs": []
    },
    {
      "cell_type": "code",
      "metadata": {
        "id": "DSMKHwE9QmKn",
        "colab_type": "code",
        "outputId": "632ef17d-099d-4a86-d28e-2e76e18674f9",
        "colab": {
          "base_uri": "https://localhost:8080/",
          "height": 36
        }
      },
      "source": [
        "print(list1)"
      ],
      "execution_count": 0,
      "outputs": [
        {
          "output_type": "stream",
          "text": [
            "[]\n"
          ],
          "name": "stdout"
        }
      ]
    },
    {
      "cell_type": "code",
      "metadata": {
        "id": "nGGoHGq3Qyl5",
        "colab_type": "code",
        "colab": {}
      },
      "source": [
        "# list2를 만든다. \n",
        "list2 = [1, '철수', True]"
      ],
      "execution_count": 0,
      "outputs": []
    },
    {
      "cell_type": "code",
      "metadata": {
        "id": "FfKLU1D2RG_4",
        "colab_type": "code",
        "outputId": "8999168f-7e95-4dbf-d999-525776294253",
        "colab": {
          "base_uri": "https://localhost:8080/",
          "height": 36
        }
      },
      "source": [
        "print(list2)"
      ],
      "execution_count": 0,
      "outputs": [
        {
          "output_type": "stream",
          "text": [
            "[1, '철수', True]\n"
          ],
          "name": "stdout"
        }
      ]
    },
    {
      "cell_type": "markdown",
      "metadata": {
        "id": "sYBgj74_RInX",
        "colab_type": "text"
      },
      "source": [
        "#### 방법 2"
      ]
    },
    {
      "cell_type": "code",
      "metadata": {
        "id": "wIBlu8H2R7P-",
        "colab_type": "code",
        "colab": {}
      },
      "source": [
        "# list를 만드는 함수\n",
        "list3 = list()"
      ],
      "execution_count": 0,
      "outputs": []
    },
    {
      "cell_type": "code",
      "metadata": {
        "id": "M_pKqjnOSAIB",
        "colab_type": "code",
        "outputId": "75f00b1c-86a1-4af7-fed3-480e41588e1e",
        "colab": {
          "base_uri": "https://localhost:8080/",
          "height": 36
        }
      },
      "source": [
        "print(list3)"
      ],
      "execution_count": 0,
      "outputs": [
        {
          "output_type": "stream",
          "text": [
            "[]\n"
          ],
          "name": "stdout"
        }
      ]
    },
    {
      "cell_type": "code",
      "metadata": {
        "id": "SCgifrw8SIpD",
        "colab_type": "code",
        "colab": {}
      },
      "source": [
        "list4 = list([1, '철수', True])"
      ],
      "execution_count": 0,
      "outputs": []
    },
    {
      "cell_type": "code",
      "metadata": {
        "id": "OyrjdzvUUhkF",
        "colab_type": "code",
        "outputId": "19aa6799-3f39-467f-c2ae-7c13922af499",
        "colab": {
          "base_uri": "https://localhost:8080/",
          "height": 36
        }
      },
      "source": [
        "print(list4)"
      ],
      "execution_count": 0,
      "outputs": [
        {
          "output_type": "stream",
          "text": [
            "[1, '철수', True]\n"
          ],
          "name": "stdout"
        }
      ]
    },
    {
      "cell_type": "code",
      "metadata": {
        "id": "wW-UWigcVf6d",
        "colab_type": "code",
        "outputId": "ed914d9e-66f6-4ded-fbb5-da90ac3ebd0c",
        "colab": {
          "base_uri": "https://localhost:8080/",
          "height": 36
        }
      },
      "source": [
        "print(list)"
      ],
      "execution_count": 0,
      "outputs": [
        {
          "output_type": "stream",
          "text": [
            "<class 'list'>\n"
          ],
          "name": "stdout"
        }
      ]
    }
  ]
}